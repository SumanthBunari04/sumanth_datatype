{
 "cells": [
  {
   "cell_type": "markdown",
   "id": "7579e287-a9a0-43b1-b5f1-7d73ca84c769",
   "metadata": {},
   "source": [
    "# Data Type"
   ]
  },
  {
   "cell_type": "markdown",
   "id": "34e7350d-a219-4978-b5ea-6d76bdfe3d8e",
   "metadata": {},
   "source": [
    "## Number\n",
    "Integer\n",
    "Boolean\n",
    "float\n",
    "complex"
   ]
  },
  {
   "cell_type": "code",
   "execution_count": 2,
   "id": "b30269a0-6af9-44ed-a047-b8a8f9435252",
   "metadata": {},
   "outputs": [
    {
     "name": "stdout",
     "output_type": "stream",
     "text": [
      "1122\n"
     ]
    }
   ],
   "source": [
    "a = 1122 #int\n",
    "print(a)"
   ]
  },
  {
   "cell_type": "code",
   "execution_count": 3,
   "id": "143ce8d4-fd1d-4944-85fb-165bf287c645",
   "metadata": {},
   "outputs": [
    {
     "name": "stdout",
     "output_type": "stream",
     "text": [
      "11.0\n"
     ]
    }
   ],
   "source": [
    "b = 11.00 #float\n",
    "print(b)"
   ]
  },
  {
   "cell_type": "code",
   "execution_count": 5,
   "id": "d97444b1-45c0-43dc-b3b7-246821722a29",
   "metadata": {},
   "outputs": [
    {
     "name": "stdout",
     "output_type": "stream",
     "text": [
      "(12+20j)\n"
     ]
    }
   ],
   "source": [
    "c = 12+20j #complex\n",
    "print(c)"
   ]
  },
  {
   "cell_type": "code",
   "execution_count": 12,
   "id": "570e972d-c365-4855-a6e4-562b620f0dfd",
   "metadata": {},
   "outputs": [
    {
     "name": "stdout",
     "output_type": "stream",
     "text": [
      "789.0\n",
      "(789+0j)\n",
      "35\n"
     ]
    }
   ],
   "source": [
    "x = 789  #int\n",
    "y = 35.76  #float\n",
    "z = 57j  #complex\n",
    "\n",
    "# convert from int to float\n",
    "a1 = float(x)\n",
    "print(a1)\n",
    "\n",
    "# convert from int to complex\n",
    "b1 = complex(x)\n",
    "print(b1)\n",
    "\n",
    "# convert from float to int\n",
    "c1 = int(y)\n",
    "print(c1)"
   ]
  },
  {
   "cell_type": "markdown",
   "id": "5648e435-3d16-4608-ad35-ea8358e78728",
   "metadata": {},
   "source": [
    "### boolean"
   ]
  },
  {
   "cell_type": "code",
   "execution_count": 13,
   "id": "18543fbb-48e8-457a-a5f9-61d36b853fb3",
   "metadata": {},
   "outputs": [
    {
     "name": "stdout",
     "output_type": "stream",
     "text": [
      "False\n"
     ]
    }
   ],
   "source": [
    "a2 = (79 < 48)\n",
    "print(a2)"
   ]
  },
  {
   "cell_type": "code",
   "execution_count": 14,
   "id": "79ce0f8d-1320-410c-8d4b-de39aed6cd98",
   "metadata": {},
   "outputs": [
    {
     "name": "stdout",
     "output_type": "stream",
     "text": [
      "True\n"
     ]
    }
   ],
   "source": [
    "b2 = (89.46 > 46)\n",
    "print(b2)"
   ]
  },
  {
   "cell_type": "code",
   "execution_count": 15,
   "id": "f43d7f68-cd2d-41d8-84de-17cef34b8049",
   "metadata": {},
   "outputs": [
    {
     "name": "stdout",
     "output_type": "stream",
     "text": [
      "True\n"
     ]
    }
   ],
   "source": [
    "c2 = (100 < 100.1)\n",
    "print(c2)"
   ]
  },
  {
   "cell_type": "code",
   "execution_count": null,
   "id": "d9280b15-c5eb-4c60-82f6-61f018bc0336",
   "metadata": {},
   "outputs": [],
   "source": []
  }
 ],
 "metadata": {
  "kernelspec": {
   "display_name": "Python 3 (ipykernel)",
   "language": "python",
   "name": "python3"
  },
  "language_info": {
   "codemirror_mode": {
    "name": "ipython",
    "version": 3
   },
   "file_extension": ".py",
   "mimetype": "text/x-python",
   "name": "python",
   "nbconvert_exporter": "python",
   "pygments_lexer": "ipython3",
   "version": "3.11.7"
  }
 },
 "nbformat": 4,
 "nbformat_minor": 5
}
